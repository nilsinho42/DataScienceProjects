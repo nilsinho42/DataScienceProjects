{
 "cells": [
  {
   "cell_type": "markdown",
   "metadata": {},
   "source": [
    "# <font color='blue'>Data Science Academy</font>\n",
    "# <font color='blue'>Big Data Real-Time Analytics com Python e Spark</font>\n",
    "\n",
    "# <font color='blue'>Estudo de Caso - Agregação e Sumarização com MapReduce e PySpark</font>"
   ]
  },
  {
   "cell_type": "code",
   "execution_count": 1,
   "metadata": {},
   "outputs": [
    {
     "name": "stdout",
     "output_type": "stream",
     "text": [
      "Versão da Linguagem Python Usada Neste Jupyter Notebook: 3.7.6\n"
     ]
    }
   ],
   "source": [
    "# Versão da Linguagem Python\n",
    "from platform import python_version\n",
    "print('Versão da Linguagem Python Usada Neste Jupyter Notebook:', python_version())"
   ]
  },
  {
   "cell_type": "markdown",
   "metadata": {},
   "source": [
    "### *********** Atenção: *********** \n",
    "Utilize Java JDK 1.8 ou 11 e Apache Spark 2.4.2 ou 2.4.5"
   ]
  },
  {
   "cell_type": "markdown",
   "metadata": {},
   "source": [
    "## Definição do Problema\n",
    "\n",
    "A definição do problema para este estudo de caso está no manual em pdf onde você encontrou este Jupyter Notebook.\n",
    "\n",
    "Este estudo de caso é mais um recurso de aprendizado adicional fornecido pela Data Science Academy. Aproveite."
   ]
  },
  {
   "cell_type": "code",
   "execution_count": 2,
   "metadata": {},
   "outputs": [],
   "source": [
    "# Para atualizar um pacote, execute o comando abaixo no terminal ou prompt de comando:\n",
    "# pip install -U nome_pacote\n",
    "\n",
    "# Para instalar a versão exata de um pacote, execute o comando abaixo no terminal ou prompt de comando:\n",
    "# pip install nome_pacote==versão_desejada\n",
    "\n",
    "# Depois de instalar ou atualizar o pacote, reinicie o jupyter notebook.\n",
    "\n",
    "# Instala o pacote watermark. \n",
    "# Esse pacote é usado para gravar as versões de outros pacotes usados neste jupyter notebook.\n",
    "!pip install -q -U watermark"
   ]
  },
  {
   "cell_type": "code",
   "execution_count": 3,
   "metadata": {},
   "outputs": [],
   "source": [
    "# Imports\n",
    "import time\n",
    "import argparse\n",
    "import pyspark\n",
    "import numpy as np \n",
    "import pandas as pd\n",
    "import datetime as dt\n",
    "from pathlib import Path\n",
    "from pyspark import SparkContext\n",
    "from pyspark.sql.session import SparkSession"
   ]
  },
  {
   "cell_type": "code",
   "execution_count": 4,
   "metadata": {},
   "outputs": [
    {
     "name": "stdout",
     "output_type": "stream",
     "text": [
      "platform 1.0.8\n",
      "numpy    1.18.2\n",
      "py4j     0.10.7\n",
      "pyspark  2.4.5\n",
      "argparse 1.1\n",
      "pandas   1.0.3\n",
      "Data Science Academy\n"
     ]
    }
   ],
   "source": [
    "# Versões dos pacotes usados neste jupyter notebook\n",
    "%reload_ext watermark\n",
    "%watermark -a \"Data Science Academy\" --iversions"
   ]
  },
  {
   "cell_type": "code",
   "execution_count": 5,
   "metadata": {},
   "outputs": [],
   "source": [
    "# Cria sessão Spark\n",
    "spark = SparkSession(sc)"
   ]
  },
  {
   "cell_type": "code",
   "execution_count": 6,
   "metadata": {},
   "outputs": [],
   "source": [
    "# Define o arquivo\n",
    "arquivo = 'dados/dataset.csv'"
   ]
  },
  {
   "cell_type": "code",
   "execution_count": 7,
   "metadata": {},
   "outputs": [],
   "source": [
    "# Carrega os dados\n",
    "dataset = pd.read_csv(arquivo)"
   ]
  },
  {
   "cell_type": "code",
   "execution_count": 8,
   "metadata": {},
   "outputs": [
    {
     "data": {
      "text/html": [
       "<div>\n",
       "<style scoped>\n",
       "    .dataframe tbody tr th:only-of-type {\n",
       "        vertical-align: middle;\n",
       "    }\n",
       "\n",
       "    .dataframe tbody tr th {\n",
       "        vertical-align: top;\n",
       "    }\n",
       "\n",
       "    .dataframe thead th {\n",
       "        text-align: right;\n",
       "    }\n",
       "</style>\n",
       "<table border=\"1\" class=\"dataframe\">\n",
       "  <thead>\n",
       "    <tr style=\"text-align: right;\">\n",
       "      <th></th>\n",
       "      <th>Genero_Usuario</th>\n",
       "      <th>Idade_Usuario</th>\n",
       "      <th>Bike</th>\n",
       "      <th>Estacao_Aluguel</th>\n",
       "      <th>Data_Aluguel</th>\n",
       "      <th>Hora_Aluguel</th>\n",
       "      <th>Estacao_Chegada</th>\n",
       "      <th>Data_Chegada</th>\n",
       "      <th>Hora_Chegada</th>\n",
       "    </tr>\n",
       "  </thead>\n",
       "  <tbody>\n",
       "    <tr>\n",
       "      <th>0</th>\n",
       "      <td>M</td>\n",
       "      <td>44</td>\n",
       "      <td>4357</td>\n",
       "      <td>442</td>\n",
       "      <td>01/02/2020</td>\n",
       "      <td>0:00:38</td>\n",
       "      <td>116</td>\n",
       "      <td>01/02/2020</td>\n",
       "      <td>0:35:17</td>\n",
       "    </tr>\n",
       "    <tr>\n",
       "      <th>1</th>\n",
       "      <td>M</td>\n",
       "      <td>22</td>\n",
       "      <td>12083</td>\n",
       "      <td>66</td>\n",
       "      <td>01/02/2020</td>\n",
       "      <td>0:00:53</td>\n",
       "      <td>37</td>\n",
       "      <td>01/02/2020</td>\n",
       "      <td>0:06:23</td>\n",
       "    </tr>\n",
       "    <tr>\n",
       "      <th>2</th>\n",
       "      <td>M</td>\n",
       "      <td>29</td>\n",
       "      <td>11562</td>\n",
       "      <td>331</td>\n",
       "      <td>01/02/2020</td>\n",
       "      <td>0:00:55</td>\n",
       "      <td>341</td>\n",
       "      <td>01/02/2020</td>\n",
       "      <td>0:26:47</td>\n",
       "    </tr>\n",
       "    <tr>\n",
       "      <th>3</th>\n",
       "      <td>M</td>\n",
       "      <td>27</td>\n",
       "      <td>10206</td>\n",
       "      <td>164</td>\n",
       "      <td>01/02/2020</td>\n",
       "      <td>0:01:18</td>\n",
       "      <td>35</td>\n",
       "      <td>01/02/2020</td>\n",
       "      <td>0:16:51</td>\n",
       "    </tr>\n",
       "    <tr>\n",
       "      <th>4</th>\n",
       "      <td>M</td>\n",
       "      <td>27</td>\n",
       "      <td>10101</td>\n",
       "      <td>120</td>\n",
       "      <td>01/02/2020</td>\n",
       "      <td>0:01:18</td>\n",
       "      <td>47</td>\n",
       "      <td>01/02/2020</td>\n",
       "      <td>0:12:39</td>\n",
       "    </tr>\n",
       "  </tbody>\n",
       "</table>\n",
       "</div>"
      ],
      "text/plain": [
       "  Genero_Usuario  Idade_Usuario   Bike  Estacao_Aluguel Data_Aluguel  \\\n",
       "0              M             44   4357              442   01/02/2020   \n",
       "1              M             22  12083               66   01/02/2020   \n",
       "2              M             29  11562              331   01/02/2020   \n",
       "3              M             27  10206              164   01/02/2020   \n",
       "4              M             27  10101              120   01/02/2020   \n",
       "\n",
       "  Hora_Aluguel  Estacao_Chegada Data_Chegada Hora_Chegada  \n",
       "0      0:00:38              116   01/02/2020      0:35:17  \n",
       "1      0:00:53               37   01/02/2020      0:06:23  \n",
       "2      0:00:55              341   01/02/2020      0:26:47  \n",
       "3      0:01:18               35   01/02/2020      0:16:51  \n",
       "4      0:01:18               47   01/02/2020      0:12:39  "
      ]
     },
     "execution_count": 8,
     "metadata": {},
     "output_type": "execute_result"
    }
   ],
   "source": [
    "# Visualiza os dados\n",
    "dataset.head()"
   ]
  },
  {
   "cell_type": "code",
   "execution_count": 9,
   "metadata": {},
   "outputs": [
    {
     "data": {
      "text/plain": [
       "(686327, 9)"
      ]
     },
     "execution_count": 9,
     "metadata": {},
     "output_type": "execute_result"
    }
   ],
   "source": [
    "# Shape\n",
    "dataset.shape"
   ]
  },
  {
   "cell_type": "code",
   "execution_count": 10,
   "metadata": {},
   "outputs": [
    {
     "data": {
      "text/plain": [
       "Genero_Usuario     object\n",
       "Idade_Usuario       int64\n",
       "Bike                int64\n",
       "Estacao_Aluguel     int64\n",
       "Data_Aluguel       object\n",
       "Hora_Aluguel       object\n",
       "Estacao_Chegada     int64\n",
       "Data_Chegada       object\n",
       "Hora_Chegada       object\n",
       "dtype: object"
      ]
     },
     "execution_count": 10,
     "metadata": {},
     "output_type": "execute_result"
    }
   ],
   "source": [
    "# Tipos de dados\n",
    "dataset.dtypes"
   ]
  },
  {
   "cell_type": "markdown",
   "metadata": {},
   "source": [
    "### Função Para Obter a Data"
   ]
  },
  {
   "cell_type": "code",
   "execution_count": 11,
   "metadata": {},
   "outputs": [],
   "source": [
    "# Função para obter a data a partir do dataset\n",
    "def gera_data(date, time):\n",
    "    from datetime import datetime    \n",
    "    datetime_object = datetime.strptime(date + \" \" + time, '%d/%m/%Y %H:%M:%S')\n",
    "    return datetime_object"
   ]
  },
  {
   "cell_type": "markdown",
   "metadata": {},
   "source": [
    "### Função Para Criar Faixas Etárias"
   ]
  },
  {
   "cell_type": "code",
   "execution_count": 12,
   "metadata": {},
   "outputs": [],
   "source": [
    "# Função para obter faixa etária\n",
    "def gera_faixa_etaria(idade):\n",
    "    if idade < 18:\n",
    "        return \"00-18\"\n",
    "    elif idade >= 18 and idade <= 34:\n",
    "        return \"18-34\"\n",
    "    elif idade >= 35 and idade <= 44:\n",
    "        return \"35-44\"\n",
    "    elif idade >= 45 and idade <= 54:\n",
    "        return \"45-54\"\n",
    "    elif idade >= 55 and idade <= 64:\n",
    "        return \"55-64\"\n",
    "    else:\n",
    "        return \"65+\""
   ]
  },
  {
   "cell_type": "markdown",
   "metadata": {},
   "source": [
    "### Função Para Limpeza dos Dados"
   ]
  },
  {
   "cell_type": "code",
   "execution_count": 13,
   "metadata": {},
   "outputs": [],
   "source": [
    "# Função para limpeza de dados\n",
    "def limpa_dados(part_id, list_of_records):\n",
    "    if part_id == 0: \n",
    "        next(list_of_records) \n",
    "    import csv\n",
    "    reader = csv.reader(list_of_records)\n",
    "    for row in reader:\n",
    "        gender = row[0]\n",
    "        idade = int(row[1])\n",
    "        bike_id = int(row[2])\n",
    "        station_start = row[3]\n",
    "        datetime_start = gera_data(row[4], row[5])\n",
    "        datetime_end = gera_data(row[7], row[8])\n",
    "        station_end = row[6]\n",
    "        yield (bike_id, gender, gera_faixa_etaria(idade), station_start, station_end, datetime_start, datetime_end)"
   ]
  },
  {
   "cell_type": "markdown",
   "metadata": {},
   "source": [
    "### Função Para Gerar RDDs"
   ]
  },
  {
   "cell_type": "code",
   "execution_count": 14,
   "metadata": {},
   "outputs": [],
   "source": [
    "# Função para gerar RDDs\n",
    "def gera_rdd(sc, input_file):\n",
    "    print(\"Lendo o Arquivo de Dados:\", input_file)\n",
    "\n",
    "    # Gera RDDs a partir do arquivo\n",
    "    rides_rdd = sc.textFile(input_file, use_unicode = True).mapPartitionsWithIndex(limpa_dados).cache()\n",
    "    \n",
    "    print(\"Número de Partições: \", rides_rdd.getNumPartitions())\n",
    "    return rides_rdd"
   ]
  },
  {
   "cell_type": "markdown",
   "metadata": {},
   "source": [
    "### Função Para Calcular as Top Start Stations"
   ]
  },
  {
   "cell_type": "code",
   "execution_count": 15,
   "metadata": {},
   "outputs": [],
   "source": [
    "# Função Para Calcular as Top Stations\n",
    "def calcula_top_start_stations(num, rides_rdd):\n",
    "    results = rides_rdd.map(lambda x: (x[3], x[6]-x[5] ) ) \\\n",
    "        .filter(lambda x: x[1].total_seconds() <= 60 * 60 * 2) \\\n",
    "        .mapValues(lambda x:  1 ) \\\n",
    "        .reduceByKey(lambda x,y: x+y) \\\n",
    "        .map(lambda x: (x[1], x[0])) \\\n",
    "        .top(num, key=lambda x: x) \n",
    "    return results"
   ]
  },
  {
   "cell_type": "markdown",
   "metadata": {},
   "source": [
    "### Função Para Calcular as Principais Rotas"
   ]
  },
  {
   "cell_type": "code",
   "execution_count": 16,
   "metadata": {},
   "outputs": [],
   "source": [
    "# Função Para Calcular as Principais Rotas\n",
    "def calcula_top_rotas(num, rides_rdd): \n",
    "    results = rides_rdd.map(lambda x: ( (x[3],x[4]), x[6]-x[5] ) ) \\\n",
    "        .filter(lambda x: x[1].total_seconds() <= 60 * 60 * 2) \\\n",
    "        .mapValues(lambda x: (x.total_seconds(), 1) ) \\\n",
    "        .reduceByKey(lambda x,y: ( x[0] + y[0], x[1] + y[1] ) ) \\\n",
    "        .map(lambda x: (x[1][1], ( x[0], x[1][0]/x[1][1] ) ) ) \\\n",
    "        .top(num, key = lambda x: x)   \n",
    "    return results"
   ]
  },
  {
   "cell_type": "markdown",
   "metadata": {},
   "source": [
    "### Função Para Calcular Estações Por Genero"
   ]
  },
  {
   "cell_type": "code",
   "execution_count": 17,
   "metadata": {},
   "outputs": [],
   "source": [
    "# Função Para Calcular Estações Por Genero\n",
    "def calcula_stats_genero(rides_rdd):\n",
    "    results = rides_rdd.map(lambda x: (x[1], x[6]-x[5] ) ) \\\n",
    "        .filter(lambda x: x[1].total_seconds() <= 60 * 60 * 2) \\\n",
    "        .mapValues(lambda x: (x.total_seconds(), 1) ) \\\n",
    "        .reduceByKey(lambda x, y: ((x[0] + y[0]), x[1] + y[1]) ) \\\n",
    "        .mapValues(lambda x: (x[0] / x[1], x[1]) ) \\\n",
    "        .collect()\n",
    "    return results "
   ]
  },
  {
   "cell_type": "markdown",
   "metadata": {},
   "source": [
    "### Função Para Calcular Estações Por Idade"
   ]
  },
  {
   "cell_type": "code",
   "execution_count": 18,
   "metadata": {},
   "outputs": [],
   "source": [
    "# Função Para Calcular Estações Por Idade\n",
    "def calcula_stats_idade(rides_rdd):\n",
    "    results = rides_rdd.map(lambda x: (x[2], x[6]-x[5] ) ) \\\n",
    "        .filter(lambda x: x[1].total_seconds() <= 60 * 60 * 2) \\\n",
    "        .mapValues(lambda x: (x.total_seconds(), 1) ) \\\n",
    "        .reduceByKey(lambda x, y: ((x[0] + y[0]), x[1] + y[1]) ) \\\n",
    "        .mapValues(lambda x: (x[0] / x[1], x[1]) ) \\\n",
    "        .collect()\n",
    "    return results  "
   ]
  },
  {
   "cell_type": "markdown",
   "metadata": {},
   "source": [
    "### Função Para Calcular Estações Com Mais Movimento"
   ]
  },
  {
   "cell_type": "code",
   "execution_count": 19,
   "metadata": {},
   "outputs": [],
   "source": [
    "# Função Para Calcular Estações Com Mais Movimento\n",
    "def calcula_stats_busy(num, rides_rdd, by_count = False):\n",
    "    results = rides_rdd.map(lambda x: (x[0], x[6]-x[5] ) ) \\\n",
    "        .filter(lambda x: x[1].total_seconds() <= 60 * 60 * 2) \\\n",
    "        .mapValues(lambda x: (1, x.total_seconds())) \\\n",
    "        .reduceByKey(lambda x, y: ((x[0] + y[0]), x[1] + y[1]) ) \\\n",
    "        .map(lambda x: (x[1], x[0])) \n",
    "    \n",
    "    if by_count: \n",
    "        return results.top(num, key = lambda x: x[0][0])\n",
    "    else: \n",
    "        return results.top(num, key = lambda x: x[0][1])   "
   ]
  },
  {
   "cell_type": "markdown",
   "metadata": {},
   "source": [
    "### Executando as Funções e Obtendo as Respostas"
   ]
  },
  {
   "cell_type": "code",
   "execution_count": 20,
   "metadata": {},
   "outputs": [
    {
     "name": "stdout",
     "output_type": "stream",
     "text": [
      "\n",
      "Gerando RDD Para Todas as Corridas de Bike... dados/dataset.csv\n",
      "Lendo o Arquivo de Dados: dados/dataset.csv\n",
      "Número de Partições:  2\n"
     ]
    }
   ],
   "source": [
    "print(\"\\nGerando RDD Para Todas as Corridas de Bike...\", arquivo)\n",
    "rides_rdd = gera_rdd(sc, arquivo)"
   ]
  },
  {
   "cell_type": "markdown",
   "metadata": {},
   "source": [
    "### 1. Quais são as Top 5 estações com maior número de aluguel de bikes?"
   ]
  },
  {
   "cell_type": "code",
   "execution_count": 21,
   "metadata": {},
   "outputs": [
    {
     "name": "stdout",
     "output_type": "stream",
     "text": [
      "Top 5 Estações:\n",
      "\n",
      "Estacões: 001, Número de Bikes Alugadas: 6298\n",
      "Estacões: 027, Número de Bikes Alugadas: 6201\n",
      "Estacões: 271, Número de Bikes Alugadas: 5262\n",
      "Estacões: 064, Número de Bikes Alugadas: 4825\n",
      "Estacões: 041, Número de Bikes Alugadas: 4621\n"
     ]
    }
   ],
   "source": [
    "top_stations = calcula_top_start_stations(5, rides_rdd)\n",
    "print(\"Top 5 Estações:\\n\")\n",
    "for entry in top_stations:\n",
    "    print(\"Estacões: {:03d}, Número de Bikes Alugadas: {:03d}\".format(int(entry[1]), entry[0]))"
   ]
  },
  {
   "cell_type": "markdown",
   "metadata": {},
   "source": [
    "### 2. Quais são as Top 5 rotas, com base na estação inicial e final, e a média de duração de cada aluguel?"
   ]
  },
  {
   "cell_type": "code",
   "execution_count": 22,
   "metadata": {},
   "outputs": [
    {
     "name": "stdout",
     "output_type": "stream",
     "text": [
      "Top 5 Rotas de Bikes:\n",
      "\n",
      "Da Estação: 033, Para a Estação: 033, Número Total de Bikes Alugadas: 375, Duração Média(mins): 30.23\n",
      "Da Estação: 018, Para a Estação: 001, Número Total de Bikes Alugadas: 319, Duração Média(mins): 5.58\n",
      "Da Estação: 211, Para a Estação: 217, Número Total de Bikes Alugadas: 303, Duração Média(mins): 3.54\n",
      "Da Estação: 449, Para a Estação: 449, Número Total de Bikes Alugadas: 301, Duração Média(mins): 15.34\n",
      "Da Estação: 208, Para a Estação: 206, Número Total de Bikes Alugadas: 297, Duração Média(mins): 8.53\n"
     ]
    }
   ],
   "source": [
    "top_routes = calcula_top_rotas(5, rides_rdd)\n",
    "print(\"Top 5 Rotas de Bikes:\\n\")\n",
    "for entry in top_routes:\n",
    "    print(\"Da Estação: {:03d}, Para a Estação: {:03d}, Número Total de Bikes Alugadas: {:03d}, Duração Média(mins): {:.2f}\".format(\n",
    "        int(entry[1][0][0]), int(entry[1][0][1]), entry[0], entry[1][1]/60))"
   ]
  },
  {
   "cell_type": "markdown",
   "metadata": {},
   "source": [
    "### 3. Quem aluga mais bikes, homens ou mulheres? Qual o tempo médio de aluguel de bikes?"
   ]
  },
  {
   "cell_type": "code",
   "execution_count": 23,
   "metadata": {},
   "outputs": [
    {
     "name": "stdout",
     "output_type": "stream",
     "text": [
      "Perfil de Aluguel de Bikes Por Genero:\n",
      "\n",
      "Genero: M, Total: 509782, Tempo Médio de Aluguel(mins): 13.62\n",
      "Genero: F, Total: 174808, Tempo Médio de Aluguel(mins): 14.30\n"
     ]
    }
   ],
   "source": [
    "gender_stats = calcula_stats_genero(rides_rdd)\n",
    "print(\"Perfil de Aluguel de Bikes Por Genero:\\n\")\n",
    "for entry in gender_stats:\n",
    "    print(\"Genero: {}, Total: {}, Tempo Médio de Aluguel(mins): {:.2f}\".format(entry[0], entry[1][1], entry[1][0]/60 ))"
   ]
  },
  {
   "cell_type": "markdown",
   "metadata": {},
   "source": [
    "### 4. Qual faixa etária aluga mais bikes? Qual o tempo médio de aluguel de bikes?"
   ]
  },
  {
   "cell_type": "code",
   "execution_count": 24,
   "metadata": {},
   "outputs": [
    {
     "name": "stdout",
     "output_type": "stream",
     "text": [
      "Perfil de Aluguel de Bikes Por Idade:\n",
      "\n",
      "Idade: 35-44, Total: 167715, Tempo Médio de Aluguel(mins): 13.58\n",
      "Idade: 18-34, Total: 392040, Tempo Médio de Aluguel(mins): 14.03\n",
      "Idade: 45-54, Total: 077990, Tempo Médio de Aluguel(mins): 13.30\n",
      "Idade: 55-64, Total: 035831, Tempo Médio de Aluguel(mins): 13.30\n",
      "Idade: 00-18, Total: 001332, Tempo Médio de Aluguel(mins): 12.78\n",
      "Idade: 65+, Total: 009682, Tempo Médio de Aluguel(mins): 13.69\n"
     ]
    }
   ],
   "source": [
    "age_stats = calcula_stats_idade(rides_rdd)\n",
    "print(\"Perfil de Aluguel de Bikes Por Idade:\\n\")\n",
    "for entry in age_stats:\n",
    "    print(\"Idade: {}, Total: {:06d}, Tempo Médio de Aluguel(mins): {:.2f}\".format(entry[0], entry[1][1], entry[1][0]/60 ))"
   ]
  },
  {
   "cell_type": "markdown",
   "metadata": {},
   "source": [
    "### 5. Quais são as estações com maior número de bikes alugadas/devolvidas?"
   ]
  },
  {
   "cell_type": "code",
   "execution_count": 25,
   "metadata": {},
   "outputs": [
    {
     "name": "stdout",
     "output_type": "stream",
     "text": [
      "Estações Com Maior Número de Bikes Alugadas/Devolvidas:\n",
      "\n",
      "ID Estação: 10771, Total: 217, Minutos: 1523.15\n",
      "ID Estação: 10810, Total: 208, Minutos: 2785.77\n",
      "ID Estação: 07854, Total: 192, Minutos: 2633.07\n"
     ]
    }
   ],
   "source": [
    "most_used_bikes = calcula_stats_busy(3, rides_rdd, True)\n",
    "print(\"Estações Com Maior Número de Bikes Alugadas/Devolvidas:\\n\")\n",
    "for entry in most_used_bikes: \n",
    "    print(\"ID Estação: {:05d}, Total: {}, Minutos: {:.2f}\".format(entry[1], entry[0][0], entry[0][1]/60 ))"
   ]
  },
  {
   "cell_type": "markdown",
   "metadata": {},
   "source": [
    "# Fim"
   ]
  }
 ],
 "metadata": {
  "kernelspec": {
   "display_name": "Python 3",
   "language": "python",
   "name": "python3"
  },
  "language_info": {
   "codemirror_mode": {
    "name": "ipython",
    "version": 3
   },
   "file_extension": ".py",
   "mimetype": "text/x-python",
   "name": "python",
   "nbconvert_exporter": "python",
   "pygments_lexer": "ipython3",
   "version": "3.8.8"
  }
 },
 "nbformat": 4,
 "nbformat_minor": 4
}
