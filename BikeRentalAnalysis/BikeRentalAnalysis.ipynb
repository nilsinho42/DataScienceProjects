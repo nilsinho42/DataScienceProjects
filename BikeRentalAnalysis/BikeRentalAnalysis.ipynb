{
 "cells": [
  {
   "cell_type": "code",
   "execution_count": 1,
   "metadata": {},
   "outputs": [],
   "source": [
    "# Imports\n",
    "import time\n",
    "import argparse\n",
    "import pyspark\n",
    "import numpy as np \n",
    "import pandas as pd\n",
    "import datetime as dt\n",
    "from pathlib import Path\n",
    "from pyspark import SparkContext\n",
    "from pyspark.sql.session import SparkSession"
   ]
  },
  {
   "cell_type": "code",
   "execution_count": 2,
   "metadata": {},
   "outputs": [],
   "source": [
    "# Creating SparkSession\n",
    "sparkSession = SparkSession(sc)"
   ]
  },
  {
   "cell_type": "code",
   "execution_count": 4,
   "metadata": {},
   "outputs": [],
   "source": [
    "# Loading Data\n",
    "file = 'dataset.csv'\n",
    "dataset = pd.read_csv(file)\n",
    "dataset.head()"
   ]
  },
  {
   "cell_type": "code",
   "execution_count": 8,
   "metadata": {},
   "outputs": [
    {
     "data": {
      "text/plain": [
       "(686327, 9)"
      ]
     },
     "execution_count": 8,
     "metadata": {},
     "output_type": "execute_result"
    }
   ],
   "source": [
    "# Shape\n",
    "dataset.shape"
   ]
  },
  {
   "cell_type": "code",
   "execution_count": 10,
   "metadata": {},
   "outputs": [
    {
     "data": {
      "text/plain": [
       "Genero_Usuario     object\n",
       "Idade_Usuario       int64\n",
       "Bike                int64\n",
       "Estacao_Aluguel     int64\n",
       "Data_Aluguel       object\n",
       "Hora_Aluguel       object\n",
       "Estacao_Chegada     int64\n",
       "Data_Chegada       object\n",
       "Hora_Chegada       object\n",
       "dtype: object"
      ]
     },
     "execution_count": 10,
     "metadata": {},
     "output_type": "execute_result"
    }
   ],
   "source": [
    "# Datatypes\n",
    "dataset.dtypes"
   ]
  },
  {
   "cell_type": "code",
   "execution_count": 5,
   "metadata": {},
   "outputs": [],
   "source": [
    "# To get data\n",
    "def get_data(date, time):\n",
    "    from datetime import datetime    \n",
    "    datetime_object = datetime.strptime(date + \" \" + time, '%d/%m/%Y %H:%M:%S')\n",
    "    return datetime_object"
   ]
  },
  {
   "cell_type": "code",
   "execution_count": 6,
   "metadata": {},
   "outputs": [],
   "source": [
    "# to classify age\n",
    "def classify_age(age):\n",
    "    if age < 18:\n",
    "        return \"00-18\"\n",
    "    elif age >= 18 and age <= 34:\n",
    "        return \"18-34\"\n",
    "    elif age >= 35 and age <= 44:\n",
    "        return \"35-44\"\n",
    "    elif age >= 45 and age <= 54:\n",
    "        return \"45-54\"\n",
    "    elif age >= 55 and age <= 64:\n",
    "        return \"55-64\"\n",
    "    else:\n",
    "        return \"65+\""
   ]
  },
  {
   "cell_type": "code",
   "execution_count": 22,
   "metadata": {},
   "outputs": [],
   "source": [
    "# Cleaning data\n",
    "def cleaning_data(part_id, list_of_records):\n",
    "    if part_id == 0: \n",
    "        next(list_of_records) \n",
    "    import csv\n",
    "    reader = csv.reader(list_of_records)\n",
    "    for row in reader:\n",
    "        gender = row[0]\n",
    "        age = int(row[1])\n",
    "        bike_id = int(row[2])\n",
    "        station_start = row[3]\n",
    "        datetime_start = get_data(row[4], row[5])\n",
    "        datetime_end = get_data(row[7], row[8])\n",
    "        station_end = row[6]\n",
    "        yield (bike_id, gender, classify_age(age), station_start, station_end, datetime_start, datetime_end)"
   ]
  },
  {
   "cell_type": "code",
   "execution_count": 19,
   "metadata": {},
   "outputs": [],
   "source": [
    "# Creating RDD\n",
    "def create_rdd(sc, input_file):\n",
    "    print(\"Reading data...\", input_file)\n",
    "\n",
    "    # Gera RDDs a partir do arquivo\n",
    "    rides_rdd = sc.textFile(input_file, use_unicode = True).mapPartitionsWithIndex(cleaning_data).cache()\n",
    "    \n",
    "    print(\"Partition quantity: \", rides_rdd.getNumPartitions())\n",
    "    return rides_rdd"
   ]
  },
  {
   "cell_type": "code",
   "execution_count": 9,
   "metadata": {},
   "outputs": [],
   "source": [
    "# To Calculate Top Start Stations\n",
    "def top_start_stations(num, rides_rdd):\n",
    "    results = rides_rdd.map(lambda x: (x[3], x[6]-x[5] ) ) \\\n",
    "        .filter(lambda x: x[1].total_seconds() <= 60 * 60 * 2) \\\n",
    "        .mapValues(lambda x:  1 ) \\\n",
    "        .reduceByKey(lambda x,y: x+y) \\\n",
    "        .map(lambda x: (x[1], x[0])) \\\n",
    "        .top(num, key=lambda x: x) \n",
    "    return results"
   ]
  },
  {
   "cell_type": "code",
   "execution_count": 10,
   "metadata": {},
   "outputs": [],
   "source": [
    "# To calculate top routes\n",
    "def calculate_top_routes(num, rides_rdd): \n",
    "    results = rides_rdd.map(lambda x: ( (x[3],x[4]), x[6]-x[5] ) ) \\\n",
    "        .filter(lambda x: x[1].total_seconds() <= 60 * 60 * 2) \\\n",
    "        .mapValues(lambda x: (x.total_seconds(), 1) ) \\\n",
    "        .reduceByKey(lambda x,y: ( x[0] + y[0], x[1] + y[1] ) ) \\\n",
    "        .map(lambda x: (x[1][1], ( x[0], x[1][0]/x[1][1] ) ) ) \\\n",
    "        .top(num, key = lambda x: x)   \n",
    "    return results"
   ]
  },
  {
   "cell_type": "code",
   "execution_count": 27,
   "metadata": {},
   "outputs": [],
   "source": [
    "# To calculate stations by gender\n",
    "def calculate_stations_gender(rides_rdd):\n",
    "    results = rides_rdd.map(lambda x: (x[1], x[6]-x[5] ) ) \\\n",
    "        .filter(lambda x: x[1].total_seconds() <= 60 * 60 * 2) \\\n",
    "        .mapValues(lambda x: (x.total_seconds(), 1) ) \\\n",
    "        .reduceByKey(lambda x, y: ((x[0] + y[0]), x[1] + y[1]) ) \\\n",
    "        .mapValues(lambda x: (x[0] / x[1], x[1]) ) \\\n",
    "        .collect()\n",
    "    return results "
   ]
  },
  {
   "cell_type": "code",
   "execution_count": 12,
   "metadata": {},
   "outputs": [],
   "source": [
    "# To calculate stations by age\n",
    "def calculate_stations_age(rides_rdd):\n",
    "    results = rides_rdd.map(lambda x: (x[2], x[6]-x[5] ) ) \\\n",
    "        .filter(lambda x: x[1].total_seconds() <= 60 * 60 * 2) \\\n",
    "        .mapValues(lambda x: (x.total_seconds(), 1) ) \\\n",
    "        .reduceByKey(lambda x, y: ((x[0] + y[0]), x[1] + y[1]) ) \\\n",
    "        .mapValues(lambda x: (x[0] / x[1], x[1]) ) \\\n",
    "        .collect()\n",
    "    return results  "
   ]
  },
  {
   "cell_type": "code",
   "execution_count": 13,
   "metadata": {},
   "outputs": [],
   "source": [
    "# To calculate stations more busy\n",
    "def calculate_stations_busy(num, rides_rdd, by_count = False):\n",
    "    results = rides_rdd.map(lambda x: (x[0], x[6]-x[5] ) ) \\\n",
    "        .filter(lambda x: x[1].total_seconds() <= 60 * 60 * 2) \\\n",
    "        .mapValues(lambda x: (1, x.total_seconds())) \\\n",
    "        .reduceByKey(lambda x, y: ((x[0] + y[0]), x[1] + y[1]) ) \\\n",
    "        .map(lambda x: (x[1], x[0])) \n",
    "    \n",
    "    if by_count: \n",
    "        return results.top(num, key = lambda x: x[0][0])\n",
    "    else: \n",
    "        return results.top(num, key = lambda x: x[0][1])   "
   ]
  },
  {
   "cell_type": "code",
   "execution_count": 23,
   "metadata": {},
   "outputs": [
    {
     "name": "stdout",
     "output_type": "stream",
     "text": [
      "\\Generating RDD for all bike runs... dataset.csv\n",
      "Reading data... dataset.csv\n",
      "Partition quantity:  2\n"
     ]
    }
   ],
   "source": [
    "print(\"\\Generating RDD for all bike runs...\", file)\n",
    "rides_rdd = create_rdd(sc, file)"
   ]
  },
  {
   "cell_type": "markdown",
   "metadata": {},
   "source": [
    "### 1. Quais são as Top 5 estações com maior número de aluguel de bikes?"
   ]
  },
  {
   "cell_type": "code",
   "execution_count": 24,
   "metadata": {},
   "outputs": [
    {
     "name": "stdout",
     "output_type": "stream",
     "text": [
      "Top 5 Estações:\n",
      "\n",
      "Estacões: 001, Número de Bikes Alugadas: 6298\n",
      "Estacões: 027, Número de Bikes Alugadas: 6201\n",
      "Estacões: 271, Número de Bikes Alugadas: 5262\n",
      "Estacões: 064, Número de Bikes Alugadas: 4825\n",
      "Estacões: 041, Número de Bikes Alugadas: 4621\n"
     ]
    }
   ],
   "source": [
    "top_stations = top_start_stations(5, rides_rdd)\n",
    "print(\"Top 5 Estações:\\n\")\n",
    "for entry in top_stations:\n",
    "    print(\"Estacões: {:03d}, Número de Bikes Alugadas: {:03d}\".format(int(entry[1]), entry[0]))"
   ]
  },
  {
   "cell_type": "markdown",
   "metadata": {},
   "source": [
    "### 2. Quais são as Top 5 rotas, com base na estação inicial e final, e a média de duração de cada aluguel?"
   ]
  },
  {
   "cell_type": "code",
   "execution_count": 25,
   "metadata": {},
   "outputs": [
    {
     "name": "stdout",
     "output_type": "stream",
     "text": [
      "Top 5 Rotas de Bikes:\n",
      "\n",
      "Da Estação: 033, Para a Estação: 033, Número Total de Bikes Alugadas: 375, Duração Média(mins): 30.23\n",
      "Da Estação: 018, Para a Estação: 001, Número Total de Bikes Alugadas: 319, Duração Média(mins): 5.58\n",
      "Da Estação: 211, Para a Estação: 217, Número Total de Bikes Alugadas: 303, Duração Média(mins): 3.54\n",
      "Da Estação: 449, Para a Estação: 449, Número Total de Bikes Alugadas: 301, Duração Média(mins): 15.34\n",
      "Da Estação: 208, Para a Estação: 206, Número Total de Bikes Alugadas: 297, Duração Média(mins): 8.53\n"
     ]
    }
   ],
   "source": [
    "top_routes = calculate_top_routes(5, rides_rdd)\n",
    "print(\"Top 5 Rotas de Bikes:\\n\")\n",
    "for entry in top_routes:\n",
    "    print(\"Da Estação: {:03d}, Para a Estação: {:03d}, Número Total de Bikes Alugadas: {:03d}, Duração Média(mins): {:.2f}\".format(\n",
    "        int(entry[1][0][0]), int(entry[1][0][1]), entry[0], entry[1][1]/60))"
   ]
  },
  {
   "cell_type": "markdown",
   "metadata": {},
   "source": [
    "### 3. Quem aluga mais bikes, homens ou mulheres? Qual o tempo médio de aluguel de bikes?"
   ]
  },
  {
   "cell_type": "code",
   "execution_count": 28,
   "metadata": {},
   "outputs": [
    {
     "name": "stdout",
     "output_type": "stream",
     "text": [
      "Perfil de Aluguel de Bikes Por Genero:\n",
      "\n",
      "Genero: M, Total: 509782, Tempo Médio de Aluguel(mins): 13.62\n",
      "Genero: F, Total: 174808, Tempo Médio de Aluguel(mins): 14.30\n"
     ]
    }
   ],
   "source": [
    "gender_stats = calculate_stations_gender(rides_rdd)\n",
    "print(\"Perfil de Aluguel de Bikes Por Genero:\\n\")\n",
    "for entry in gender_stats:\n",
    "    print(\"Genero: {}, Total: {}, Tempo Médio de Aluguel(mins): {:.2f}\".format(entry[0], entry[1][1], entry[1][0]/60 ))"
   ]
  },
  {
   "cell_type": "markdown",
   "metadata": {},
   "source": [
    "### 4. Qual faixa etária aluga mais bikes? Qual o tempo médio de aluguel de bikes?"
   ]
  },
  {
   "cell_type": "code",
   "execution_count": 32,
   "metadata": {},
   "outputs": [
    {
     "name": "stdout",
     "output_type": "stream",
     "text": [
      "Perfil de Aluguel de Bikes Por Idade:\n",
      "\n",
      "Idade: 35-44, Total: 167715, Tempo Médio de Aluguel(mins): 13.58\n",
      "Idade: 18-34, Total: 392040, Tempo Médio de Aluguel(mins): 14.03\n",
      "Idade: 45-54, Total: 077990, Tempo Médio de Aluguel(mins): 13.30\n",
      "Idade: 55-64, Total: 035831, Tempo Médio de Aluguel(mins): 13.30\n",
      "Idade: 00-18, Total: 001332, Tempo Médio de Aluguel(mins): 12.78\n",
      "Idade: 65+, Total: 009682, Tempo Médio de Aluguel(mins): 13.69\n"
     ]
    }
   ],
   "source": [
    "age_stats = calculate_stations_age(rides_rdd)\n",
    "print(\"Perfil de Aluguel de Bikes Por Idade:\\n\")\n",
    "for entry in age_stats:\n",
    "    print(\"Idade: {}, Total: {:06d}, Tempo Médio de Aluguel(mins): {:.2f}\".format(entry[0], entry[1][1], entry[1][0]/60 ))"
   ]
  },
  {
   "cell_type": "markdown",
   "metadata": {},
   "source": [
    "### 5. Quais são as estações com maior número de bikes alugadas/devolvidas?"
   ]
  },
  {
   "cell_type": "code",
   "execution_count": 30,
   "metadata": {},
   "outputs": [
    {
     "name": "stdout",
     "output_type": "stream",
     "text": [
      "Estações Com Maior Número de Bikes Alugadas/Devolvidas:\n",
      "\n",
      "ID Estação: 10771, Total: 217, Minutos: 1523.15\n",
      "ID Estação: 10810, Total: 208, Minutos: 2785.77\n",
      "ID Estação: 07854, Total: 192, Minutos: 2633.07\n"
     ]
    }
   ],
   "source": [
    "most_used_bikes = calculate_stations_busy(3, rides_rdd, True)\n",
    "print(\"Estações Com Maior Número de Bikes Alugadas/Devolvidas:\\n\")\n",
    "for entry in most_used_bikes: \n",
    "    print(\"ID Estação: {:05d}, Total: {}, Minutos: {:.2f}\".format(entry[1], entry[0][0], entry[0][1]/60 ))"
   ]
  },
  {
   "cell_type": "markdown",
   "metadata": {},
   "source": [
    "# Fim"
   ]
  }
 ],
 "metadata": {
  "kernelspec": {
   "display_name": "Python 3",
   "language": "python",
   "name": "python3"
  },
  "language_info": {
   "codemirror_mode": {
    "name": "ipython",
    "version": 3
   },
   "file_extension": ".py",
   "mimetype": "text/x-python",
   "name": "python",
   "nbconvert_exporter": "python",
   "pygments_lexer": "ipython3",
   "version": "3.8.8"
  }
 },
 "nbformat": 4,
 "nbformat_minor": 4
}
