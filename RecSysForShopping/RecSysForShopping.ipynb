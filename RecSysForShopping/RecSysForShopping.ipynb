{
 "cells": [
  {
   "cell_type": "code",
   "execution_count": 4,
   "id": "4205640f",
   "metadata": {},
   "outputs": [],
   "source": [
    "from pyspark.ml.recommendation import ALS"
   ]
  },
  {
   "cell_type": "code",
   "execution_count": 5,
   "id": "5ab9b9db",
   "metadata": {},
   "outputs": [],
   "source": [
    "sparkSession = SparkSession.builder.master(\"local\").appName(\"RecSysForShopping\").getOrCreate()"
   ]
  },
  {
   "cell_type": "code",
   "execution_count": 6,
   "id": "c73b92d1",
   "metadata": {},
   "outputs": [],
   "source": [
    "ratingsRDD = sc.textFile(\"user-item.txt\")"
   ]
  },
  {
   "cell_type": "code",
   "execution_count": 7,
   "id": "656801af",
   "metadata": {},
   "outputs": [
    {
     "data": {
      "text/plain": [
       "['1001,9001,10',\n",
       " '1001,9002,1',\n",
       " '1001,9003,9',\n",
       " '1002,9001,3',\n",
       " '1002,9002,5',\n",
       " '1002,9003,1',\n",
       " '1002,9004,10',\n",
       " '1003,9001,2',\n",
       " '1003,9002,6',\n",
       " '1003,9003,2',\n",
       " '1003,9004,9',\n",
       " '1003,9005,10',\n",
       " '1003,9006,8',\n",
       " '1003,9007,9',\n",
       " '1004,9001,9',\n",
       " '1004,9002,2',\n",
       " '1004,9003,8',\n",
       " '1004,9004,3',\n",
       " '1004,9010,10',\n",
       " '1004,9011,9',\n",
       " '1004,9012,8',\n",
       " '1005,9001,8',\n",
       " '1005,9002,3',\n",
       " '1005,9003,7',\n",
       " '1005,9004,1',\n",
       " '1005,9010,9',\n",
       " '1005,9011,10',\n",
       " '1005,9012,9',\n",
       " '1005,9013,8',\n",
       " '1005,9014,1',\n",
       " '1005,9015,1',\n",
       " '1006,9001,7',\n",
       " '1006,9002,4',\n",
       " '1006,9003,8',\n",
       " '1006,9004,1',\n",
       " '1006,9010,7',\n",
       " '1006,9011,6',\n",
       " '1006,9012,9']"
      ]
     },
     "execution_count": 7,
     "metadata": {},
     "output_type": "execute_result"
    }
   ],
   "source": [
    "ratingsRDD.collect()"
   ]
  },
  {
   "cell_type": "code",
   "execution_count": 10,
   "id": "9f03b196",
   "metadata": {},
   "outputs": [],
   "source": [
    "ratingsRDD2 = ratingsRDD.map(lambda l: l.split(',')).map(lambda l: (int(l[0]), int(l[1]), float(l[2])))"
   ]
  },
  {
   "cell_type": "code",
   "execution_count": 11,
   "id": "18921650",
   "metadata": {},
   "outputs": [],
   "source": [
    "ratingsDF = sparkSession.createDataFrame(ratingsRDD2, [\"user\", \"item\", \"rating\"])"
   ]
  },
  {
   "cell_type": "code",
   "execution_count": 12,
   "id": "dc1d16e3",
   "metadata": {},
   "outputs": [
    {
     "name": "stdout",
     "output_type": "stream",
     "text": [
      "+----+----+------+\n",
      "|user|item|rating|\n",
      "+----+----+------+\n",
      "|1001|9001|  10.0|\n",
      "|1001|9002|   1.0|\n",
      "|1001|9003|   9.0|\n",
      "|1002|9001|   3.0|\n",
      "|1002|9002|   5.0|\n",
      "|1002|9003|   1.0|\n",
      "|1002|9004|  10.0|\n",
      "|1003|9001|   2.0|\n",
      "|1003|9002|   6.0|\n",
      "|1003|9003|   2.0|\n",
      "|1003|9004|   9.0|\n",
      "|1003|9005|  10.0|\n",
      "|1003|9006|   8.0|\n",
      "|1003|9007|   9.0|\n",
      "|1004|9001|   9.0|\n",
      "|1004|9002|   2.0|\n",
      "|1004|9003|   8.0|\n",
      "|1004|9004|   3.0|\n",
      "|1004|9010|  10.0|\n",
      "|1004|9011|   9.0|\n",
      "+----+----+------+\n",
      "only showing top 20 rows\n",
      "\n"
     ]
    }
   ],
   "source": [
    "ratingsDF.show()"
   ]
  },
  {
   "cell_type": "code",
   "execution_count": 13,
   "id": "fc74fd1e",
   "metadata": {},
   "outputs": [],
   "source": [
    "als = ALS(rank = 10, maxIter = 10)"
   ]
  },
  {
   "cell_type": "code",
   "execution_count": 14,
   "id": "4c58eef2",
   "metadata": {},
   "outputs": [],
   "source": [
    "model = als.fit(ratingsDF)"
   ]
  },
  {
   "cell_type": "code",
   "execution_count": 15,
   "id": "4c40686f",
   "metadata": {},
   "outputs": [
    {
     "name": "stderr",
     "output_type": "stream",
     "text": [
      "/opt/spark/python/pyspark/sql/context.py:125: FutureWarning: Deprecated in 3.0.0. Use SparkSession.builder.getOrCreate() instead.\n",
      "  warnings.warn(\n"
     ]
    },
    {
     "data": {
      "text/plain": [
       "[Row(id=1001, features=[-1.2894525527954102, 0.12157785147428513, 0.625617504119873, 0.7091385126113892, -0.08481483906507492, -0.17722980678081512, 0.49486419558525085, 0.08951529115438461, -0.08117891103029251, 1.445247769355774]),\n",
       " Row(id=1002, features=[-0.9008321762084961, -0.32047632336616516, -1.7868283987045288, 0.4387056827545166, -0.27200061082839966, 0.32580989599227905, 0.30583181977272034, -0.4018024504184723, -0.5632818937301636, -0.5309833884239197]),\n",
       " Row(id=1003, features=[-0.4492712616920471, -0.032939884811639786, -1.538372278213501, 0.7346091866493225, -0.397429496049881, 0.7728268504142761, 0.01202173437923193, 0.1878589540719986, -0.2908880114555359, -0.5745972394943237]),\n",
       " Row(id=1004, features=[-1.425462007522583, -0.1570417284965515, 0.1040981337428093, 0.8614082932472229, -0.07784298807382584, -0.034906573593616486, 0.5061110258102417, -0.045271072536706924, -0.20724225044250488, 0.8634418249130249]),\n",
       " Row(id=1005, features=[-0.7408350706100464, 0.5763077735900879, -0.2391374707221985, 0.3413693606853485, -0.3895608186721802, 0.08560100942850113, 0.304861456155777, 0.19789643585681915, -0.18323329091072083, 1.4096603393554688]),\n",
       " Row(id=1006, features=[-0.4113371670246124, 0.483218789100647, 0.2434571385383606, 1.1679729223251343, -0.3766612112522125, 0.7846851348876953, -0.06671127676963806, 0.9614901542663574, 0.23240739107131958, 0.7309204936027527])]"
      ]
     },
     "execution_count": 15,
     "metadata": {},
     "output_type": "execute_result"
    }
   ],
   "source": [
    "model.userFactors.orderBy(\"id\").collect()"
   ]
  },
  {
   "cell_type": "code",
   "execution_count": 16,
   "id": "60e57f53",
   "metadata": {},
   "outputs": [],
   "source": [
    "testDF = sparkSession.createDataFrame([(1001, 9003), (1001, 9004), (1001, 9005)], [\"user\", \"item\"])"
   ]
  },
  {
   "cell_type": "code",
   "execution_count": 18,
   "id": "92095ec7",
   "metadata": {},
   "outputs": [],
   "source": [
    "prediction = (model.transform(testDF).collect())"
   ]
  },
  {
   "cell_type": "code",
   "execution_count": 19,
   "id": "4e8cd977",
   "metadata": {},
   "outputs": [
    {
     "data": {
      "text/plain": [
       "[Row(user=1001, item=9003, prediction=8.971719741821289),\n",
       " Row(user=1001, item=9004, prediction=-0.36467719078063965),\n",
       " Row(user=1001, item=9005, prediction=-1.8059507608413696)]"
      ]
     },
     "execution_count": 19,
     "metadata": {},
     "output_type": "execute_result"
    }
   ],
   "source": [
    "prediction"
   ]
  },
  {
   "cell_type": "code",
   "execution_count": null,
   "id": "a1d25acf",
   "metadata": {},
   "outputs": [],
   "source": []
  }
 ],
 "metadata": {
  "kernelspec": {
   "display_name": "Python 3",
   "language": "python",
   "name": "python3"
  },
  "language_info": {
   "codemirror_mode": {
    "name": "ipython",
    "version": 3
   },
   "file_extension": ".py",
   "mimetype": "text/x-python",
   "name": "python",
   "nbconvert_exporter": "python",
   "pygments_lexer": "ipython3",
   "version": "3.8.8"
  }
 },
 "nbformat": 4,
 "nbformat_minor": 5
}
