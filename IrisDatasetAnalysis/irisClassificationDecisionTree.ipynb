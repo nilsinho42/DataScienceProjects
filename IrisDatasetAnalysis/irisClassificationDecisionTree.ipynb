{
 "cells": [
  {
   "cell_type": "code",
   "execution_count": 4,
   "id": "52f4d64f",
   "metadata": {},
   "outputs": [],
   "source": [
    "# Imports\n",
    "from pyspark.sql import Row\n",
    "from pyspark.ml.feature import StringIndexer\n",
    "from pyspark.ml.linalg import Vectors\n",
    "from pyspark.ml.classification import DecisionTreeClassifier\n",
    "from pyspark.ml.evaluation import MulticlassClassificationEvaluator"
   ]
  },
  {
   "cell_type": "code",
   "execution_count": 5,
   "id": "12d926da",
   "metadata": {},
   "outputs": [],
   "source": [
    "# Spark Session\n",
    "sparkSession = SparkSession.builder.master(\"local\").appName(\"irisClassificationDecisionTree\").getOrCreate()"
   ]
  },
  {
   "cell_type": "code",
   "execution_count": 14,
   "id": "ecaea82c",
   "metadata": {},
   "outputs": [
    {
     "data": {
      "text/plain": [
       "151"
      ]
     },
     "execution_count": 14,
     "metadata": {},
     "output_type": "execute_result"
    }
   ],
   "source": [
    "irisRDD = sc.textFile(\"iris.csv\")\n",
    "irisRDD.cache()\n",
    "irisRDD.count()"
   ]
  },
  {
   "cell_type": "code",
   "execution_count": 15,
   "id": "97137ac3",
   "metadata": {},
   "outputs": [
    {
     "data": {
      "text/plain": [
       "['Id,SepalLengthCm,SepalWidthCm,PetalLengthCm,PetalWidthCm,Species',\n",
       " '1,5.1,3.5,1.4,0.2,Iris-setosa',\n",
       " '2,4.9,3.0,1.4,0.2,Iris-setosa',\n",
       " '3,4.7,3.2,1.3,0.2,Iris-setosa',\n",
       " '4,4.6,3.1,1.5,0.2,Iris-setosa']"
      ]
     },
     "execution_count": 15,
     "metadata": {},
     "output_type": "execute_result"
    }
   ],
   "source": [
    "irisRDD.take(5)"
   ]
  },
  {
   "cell_type": "code",
   "execution_count": 16,
   "id": "0b1c1d8b",
   "metadata": {},
   "outputs": [],
   "source": [
    "# Removing header\n",
    "irisRDD = irisRDD.filter(lambda x: \"Sepal\" not in x)"
   ]
  },
  {
   "cell_type": "code",
   "execution_count": 17,
   "id": "8b10cadd",
   "metadata": {},
   "outputs": [],
   "source": [
    "# Mapping columns\n",
    "irisRDD2 = irisRDD.map(lambda l: l.split(\",\"))\n",
    "irisRDD2 = irisRDD2.map(lambda l: Row(ID = int(l[0]), SEPAL_LENGTH = float(l[1]), SEPAL_WIDTH = float(l[2]),\n",
    "                                     PETAL_LENGTH = float(l[3]), PETAL_WIDTH = float(l[4]), SPECIES = l[5]))"
   ]
  },
  {
   "cell_type": "code",
   "execution_count": 21,
   "id": "a05bc3da",
   "metadata": {},
   "outputs": [
    {
     "data": {
      "text/plain": [
       "DataFrame[ID: bigint, SEPAL_LENGTH: double, SEPAL_WIDTH: double, PETAL_LENGTH: double, PETAL_WIDTH: double, SPECIES: string]"
      ]
     },
     "execution_count": 21,
     "metadata": {},
     "output_type": "execute_result"
    }
   ],
   "source": [
    "# Creating DF\n",
    "irisDF = sparkSession.createDataFrame(irisRDD2)\n",
    "irisDF.cache()"
   ]
  },
  {
   "cell_type": "code",
   "execution_count": 22,
   "id": "d342d016",
   "metadata": {},
   "outputs": [],
   "source": [
    "# Creating a Numerical Indexer to target label\n",
    "stringIndexer = StringIndexer(inputCol = \"SPECIES\", outputCol = \"IDX_SPECIES\")\n",
    "stringIndexerModel = stringIndexer.fit(irisDF)\n",
    "irisDF_norm = stringIndexerModel.transform(irisDF)"
   ]
  },
  {
   "cell_type": "code",
   "execution_count": 23,
   "id": "74018aec",
   "metadata": {},
   "outputs": [
    {
     "data": {
      "text/plain": [
       "[Row(SPECIES='Iris-setosa', IDX_SPECIES=0.0),\n",
       " Row(SPECIES='Iris-versicolor', IDX_SPECIES=1.0),\n",
       " Row(SPECIES='Iris-virginica', IDX_SPECIES=2.0)]"
      ]
     },
     "execution_count": 23,
     "metadata": {},
     "output_type": "execute_result"
    }
   ],
   "source": [
    "irisDF_norm.select(\"SPECIES\",\"IDX_SPECIES\").distinct().collect()"
   ]
  },
  {
   "cell_type": "code",
   "execution_count": 26,
   "id": "7630585e",
   "metadata": {},
   "outputs": [
    {
     "name": "stdout",
     "output_type": "stream",
     "text": [
      "+-------+------------------+------------------+------------------+------------------+------------------+--------------+------------------+\n",
      "|summary|                ID|      SEPAL_LENGTH|       SEPAL_WIDTH|      PETAL_LENGTH|       PETAL_WIDTH|       SPECIES|       IDX_SPECIES|\n",
      "+-------+------------------+------------------+------------------+------------------+------------------+--------------+------------------+\n",
      "|  count|               150|               150|               150|               150|               150|           150|               150|\n",
      "|   mean|              75.5| 5.843333333333332|3.0540000000000007| 3.758666666666668|1.1986666666666663|          null|               1.0|\n",
      "| stddev|43.445367992456916|0.8280661279778633|0.4335943113621735|1.7644204199522615|0.7631607417008414|          null|0.8192319205190407|\n",
      "|    min|                 1|               4.3|               2.0|               1.0|               0.1|   Iris-setosa|               0.0|\n",
      "|    max|               150|               7.9|               4.4|               6.9|               2.5|Iris-virginica|               2.0|\n",
      "+-------+------------------+------------------+------------------+------------------+------------------+--------------+------------------+\n",
      "\n"
     ]
    }
   ],
   "source": [
    "irisDF_norm.describe().show()"
   ]
  },
  {
   "cell_type": "code",
   "execution_count": 32,
   "id": "600d7bfc",
   "metadata": {},
   "outputs": [
    {
     "name": "stdout",
     "output_type": "stream",
     "text": [
      "Corr IDX_SPECIES with  ID 0.9428299935925015\n",
      "Corr IDX_SPECIES with  SEPAL_LENGTH 0.7825612318100816\n",
      "Corr IDX_SPECIES with  SEPAL_WIDTH -0.419446200260027\n",
      "Corr IDX_SPECIES with  PETAL_LENGTH 0.9490425448523337\n",
      "Corr IDX_SPECIES with  PETAL_WIDTH 0.9564638238016175\n",
      "Corr IDX_SPECIES with  IDX_SPECIES 1.0\n"
     ]
    }
   ],
   "source": [
    "for i in irisDF_norm.columns:\n",
    "    if not(isinstance(irisDF_norm.select(i).take(1)[0][0], str)):\n",
    "        print(\"Corr IDX_SPECIES with \", i, irisDF_norm.stat.corr(\"IDX_SPECIES\", i))"
   ]
  },
  {
   "cell_type": "code",
   "execution_count": 33,
   "id": "50ea1b09",
   "metadata": {},
   "outputs": [],
   "source": [
    "def transformation(row):\n",
    "    obj = (row[\"SPECIES\"], row[\"IDX_SPECIES\"], Vectors.dense([row[\"SEPAL_LENGTH\"], row[\"SEPAL_WIDTH\"], \n",
    "                                                              row[\"PETAL_LENGTH\"], row[\"PETAL_WIDTH\"]]))\n",
    "    return obj"
   ]
  },
  {
   "cell_type": "code",
   "execution_count": 35,
   "id": "b9100349",
   "metadata": {},
   "outputs": [],
   "source": [
    "irisRDD3 = irisDF_norm.rdd.map(transformation)"
   ]
  },
  {
   "cell_type": "code",
   "execution_count": 38,
   "id": "607056e5",
   "metadata": {},
   "outputs": [
    {
     "name": "stdout",
     "output_type": "stream",
     "text": [
      "+-----------+-----+-----------------+\n",
      "|    species|label|         features|\n",
      "+-----------+-----+-----------------+\n",
      "|Iris-setosa|  0.0|[5.1,3.5,1.4,0.2]|\n",
      "|Iris-setosa|  0.0|[4.9,3.0,1.4,0.2]|\n",
      "|Iris-setosa|  0.0|[4.7,3.2,1.3,0.2]|\n",
      "|Iris-setosa|  0.0|[4.6,3.1,1.5,0.2]|\n",
      "|Iris-setosa|  0.0|[5.0,3.6,1.4,0.2]|\n",
      "|Iris-setosa|  0.0|[5.4,3.9,1.7,0.4]|\n",
      "|Iris-setosa|  0.0|[4.6,3.4,1.4,0.3]|\n",
      "|Iris-setosa|  0.0|[5.0,3.4,1.5,0.2]|\n",
      "|Iris-setosa|  0.0|[4.4,2.9,1.4,0.2]|\n",
      "|Iris-setosa|  0.0|[4.9,3.1,1.5,0.1]|\n",
      "+-----------+-----+-----------------+\n",
      "only showing top 10 rows\n",
      "\n"
     ]
    },
    {
     "data": {
      "text/plain": [
       "DataFrame[species: string, label: double, features: vector]"
      ]
     },
     "execution_count": 38,
     "metadata": {},
     "output_type": "execute_result"
    }
   ],
   "source": [
    "irisDF = sparkSession.createDataFrame(irisRDD3, [\"species\", \"label\", \"features\"])\n",
    "irisDF.select(\"species\", \"label\", \"features\").show(10)\n",
    "irisDF.cache()"
   ]
  },
  {
   "cell_type": "code",
   "execution_count": 39,
   "id": "d7fbaede",
   "metadata": {},
   "outputs": [],
   "source": [
    "(trainData, testData) = irisDF.randomSplit([0.7, 0.3])"
   ]
  },
  {
   "cell_type": "code",
   "execution_count": 51,
   "id": "f34b4ace",
   "metadata": {},
   "outputs": [],
   "source": [
    "decisionTreeClassifier = DecisionTreeClassifier(maxDepth = 20, labelCol = \"label\", featuresCol = \"features\")\n",
    "model = decisionTreeClassifier.fit(trainData)"
   ]
  },
  {
   "cell_type": "code",
   "execution_count": 52,
   "id": "75439e8f",
   "metadata": {},
   "outputs": [
    {
     "data": {
      "text/plain": [
       "6"
      ]
     },
     "execution_count": 52,
     "metadata": {},
     "output_type": "execute_result"
    }
   ],
   "source": [
    "model.numNodes\n",
    "model.depth"
   ]
  },
  {
   "cell_type": "code",
   "execution_count": 53,
   "id": "428554a7",
   "metadata": {},
   "outputs": [
    {
     "data": {
      "text/plain": [
       "[Row(prediction=0.0, species='Iris-setosa', label=0.0),\n",
       " Row(prediction=0.0, species='Iris-setosa', label=0.0),\n",
       " Row(prediction=0.0, species='Iris-setosa', label=0.0),\n",
       " Row(prediction=0.0, species='Iris-setosa', label=0.0),\n",
       " Row(prediction=0.0, species='Iris-setosa', label=0.0),\n",
       " Row(prediction=0.0, species='Iris-setosa', label=0.0),\n",
       " Row(prediction=0.0, species='Iris-setosa', label=0.0),\n",
       " Row(prediction=0.0, species='Iris-setosa', label=0.0),\n",
       " Row(prediction=0.0, species='Iris-setosa', label=0.0),\n",
       " Row(prediction=0.0, species='Iris-setosa', label=0.0),\n",
       " Row(prediction=0.0, species='Iris-setosa', label=0.0),\n",
       " Row(prediction=0.0, species='Iris-setosa', label=0.0),\n",
       " Row(prediction=0.0, species='Iris-setosa', label=0.0),\n",
       " Row(prediction=0.0, species='Iris-setosa', label=0.0),\n",
       " Row(prediction=0.0, species='Iris-setosa', label=0.0),\n",
       " Row(prediction=0.0, species='Iris-setosa', label=0.0),\n",
       " Row(prediction=0.0, species='Iris-setosa', label=0.0),\n",
       " Row(prediction=0.0, species='Iris-setosa', label=0.0),\n",
       " Row(prediction=0.0, species='Iris-setosa', label=0.0),\n",
       " Row(prediction=0.0, species='Iris-setosa', label=0.0),\n",
       " Row(prediction=2.0, species='Iris-versicolor', label=1.0),\n",
       " Row(prediction=1.0, species='Iris-versicolor', label=1.0),\n",
       " Row(prediction=1.0, species='Iris-versicolor', label=1.0),\n",
       " Row(prediction=1.0, species='Iris-versicolor', label=1.0),\n",
       " Row(prediction=1.0, species='Iris-versicolor', label=1.0),\n",
       " Row(prediction=1.0, species='Iris-versicolor', label=1.0),\n",
       " Row(prediction=1.0, species='Iris-versicolor', label=1.0),\n",
       " Row(prediction=1.0, species='Iris-versicolor', label=1.0),\n",
       " Row(prediction=1.0, species='Iris-versicolor', label=1.0),\n",
       " Row(prediction=2.0, species='Iris-virginica', label=2.0),\n",
       " Row(prediction=2.0, species='Iris-virginica', label=2.0),\n",
       " Row(prediction=2.0, species='Iris-virginica', label=2.0),\n",
       " Row(prediction=2.0, species='Iris-virginica', label=2.0),\n",
       " Row(prediction=2.0, species='Iris-virginica', label=2.0),\n",
       " Row(prediction=2.0, species='Iris-virginica', label=2.0),\n",
       " Row(prediction=2.0, species='Iris-virginica', label=2.0),\n",
       " Row(prediction=2.0, species='Iris-virginica', label=2.0),\n",
       " Row(prediction=2.0, species='Iris-virginica', label=2.0),\n",
       " Row(prediction=2.0, species='Iris-virginica', label=2.0),\n",
       " Row(prediction=2.0, species='Iris-virginica', label=2.0)]"
      ]
     },
     "execution_count": 53,
     "metadata": {},
     "output_type": "execute_result"
    }
   ],
   "source": [
    "predictions = model.transform(testData)\n",
    "predictions.select(\"prediction\", \"species\", \"label\").collect()"
   ]
  },
  {
   "cell_type": "code",
   "execution_count": 54,
   "id": "80bae935",
   "metadata": {},
   "outputs": [
    {
     "data": {
      "text/plain": [
       "0.975"
      ]
     },
     "execution_count": 54,
     "metadata": {},
     "output_type": "execute_result"
    }
   ],
   "source": [
    "evaluator = MulticlassClassificationEvaluator (predictionCol = \"prediction\", labelCol = \"label\", metricName = \"accuracy\")\n",
    "evaluator.evaluate(predictions)"
   ]
  },
  {
   "cell_type": "code",
   "execution_count": 55,
   "id": "c5f4fa8b",
   "metadata": {},
   "outputs": [
    {
     "name": "stdout",
     "output_type": "stream",
     "text": [
      "+-----+----------+-----+\n",
      "|label|prediction|count|\n",
      "+-----+----------+-----+\n",
      "|  1.0|       1.0|    8|\n",
      "|  1.0|       2.0|    1|\n",
      "|  0.0|       0.0|   20|\n",
      "|  2.0|       2.0|   11|\n",
      "+-----+----------+-----+\n",
      "\n"
     ]
    }
   ],
   "source": [
    "predictions.groupBy(\"label\", \"prediction\").count().show()"
   ]
  },
  {
   "cell_type": "code",
   "execution_count": null,
   "id": "ff28a753",
   "metadata": {},
   "outputs": [],
   "source": []
  }
 ],
 "metadata": {
  "kernelspec": {
   "display_name": "Python 3",
   "language": "python",
   "name": "python3"
  },
  "language_info": {
   "codemirror_mode": {
    "name": "ipython",
    "version": 3
   },
   "file_extension": ".py",
   "mimetype": "text/x-python",
   "name": "python",
   "nbconvert_exporter": "python",
   "pygments_lexer": "ipython3",
   "version": "3.8.8"
  }
 },
 "nbformat": 4,
 "nbformat_minor": 5
}
