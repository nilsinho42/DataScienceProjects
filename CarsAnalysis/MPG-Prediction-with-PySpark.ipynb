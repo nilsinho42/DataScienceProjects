{
 "cells": [
  {
   "cell_type": "markdown",
   "metadata": {},
   "source": [
    "## <font color='blue'>Spark MLLib - Regressão Linear</font>"
   ]
  },
  {
   "cell_type": "markdown",
   "metadata": {},
   "source": [
    "## Using LinearRegression to predict MPG values"
   ]
  },
  {
   "cell_type": "code",
   "execution_count": 1,
   "metadata": {},
   "outputs": [],
   "source": [
    "# Imports\n",
    "from pyspark.sql import Row\n",
    "from pyspark.ml.linalg import Vectors\n",
    "from pyspark.ml.regression import LinearRegression\n",
    "from pyspark.ml.evaluation import RegressionEvaluator"
   ]
  },
  {
   "cell_type": "code",
   "execution_count": 2,
   "metadata": {},
   "outputs": [],
   "source": [
    "# Spark Session - (required to work with Dataframes in Spark)\n",
    "spSession = SparkSession.builder.master(\"local\").appName(\"SparkMLLibMPGPredict\").getOrCreate()"
   ]
  },
  {
   "cell_type": "code",
   "execution_count": 8,
   "metadata": {},
   "outputs": [
    {
     "data": {
      "text/plain": [
       "399"
      ]
     },
     "execution_count": 8,
     "metadata": {},
     "output_type": "execute_result"
    }
   ],
   "source": [
    "carsRDD = sc.textFile(\"auto-mpg.csv\")\n",
    "carsRDD.cache()\n",
    "carsRDD.count()"
   ]
  },
  {
   "cell_type": "code",
   "execution_count": 9,
   "metadata": {},
   "outputs": [
    {
     "data": {
      "text/plain": [
       "auto-mpg.csv MapPartitionsRDD[7] at textFile at NativeMethodAccessorImpl.java:0"
      ]
     },
     "execution_count": 9,
     "metadata": {},
     "output_type": "execute_result"
    }
   ],
   "source": [
    "carsRDD"
   ]
  },
  {
   "cell_type": "code",
   "execution_count": 4,
   "metadata": {},
   "outputs": [
    {
     "data": {
      "text/plain": [
       "['mpg,cylinders,displacement,horsepower,weight,acceleration,model year,origin,car name',\n",
       " '18,8,307,130,3504,12,70,1,chevrolet chevelle malibu',\n",
       " '15,8,350,165,3693,11.5,70,1,buick skylark 320',\n",
       " '18,8,318,150,3436,11,70,1,plymouth satellite',\n",
       " '16,8,304,150,3433,12,70,1,amc rebel sst']"
      ]
     },
     "execution_count": 4,
     "metadata": {},
     "output_type": "execute_result"
    }
   ],
   "source": [
    "carsRDD.take(5)"
   ]
  },
  {
   "cell_type": "code",
   "execution_count": 5,
   "metadata": {},
   "outputs": [
    {
     "data": {
      "text/plain": [
       "398"
      ]
     },
     "execution_count": 5,
     "metadata": {},
     "output_type": "execute_result"
    }
   ],
   "source": [
    "# Removing header\n",
    "carsRDD = carsRDD.filter(lambda x: \"cylinders\" not in x)\n",
    "carsRDD.count()"
   ]
  },
  {
   "cell_type": "code",
   "execution_count": 6,
   "metadata": {},
   "outputs": [
    {
     "data": {
      "text/plain": [
       "['25,4,98,?,2046,19,71,1,ford pinto',\n",
       " '21,6,200,?,2875,17,74,1,ford maverick',\n",
       " '40.9,4,85,?,1835,17.3,80,2,renault lecar deluxe',\n",
       " '23.6,4,140,?,2905,14.3,80,1,ford mustang cobra',\n",
       " '34.5,4,100,?,2320,15.8,81,2,renault 18i',\n",
       " '23,4,151,?,3035,20.5,82,1,amc concord dl']"
      ]
     },
     "execution_count": 6,
     "metadata": {},
     "output_type": "execute_result"
    }
   ],
   "source": [
    "# Searching for NAN/missing values\n",
    "carsRDD_nan = carsRDD.filter(lambda x: \"?\" in x or \",,\" in x)\n",
    "carsRDD_nan.take(100)"
   ]
  },
  {
   "cell_type": "code",
   "execution_count": 7,
   "metadata": {},
   "outputs": [],
   "source": [
    "# Since the missing value it's in the HP column, could substitute it for the HP Average OR\n",
    "# to have more precision, could use MPG, Cylinders, Acceleration and Weight data to predict HP and fill\n",
    "# the missing values\n",
    "\n",
    "# First, lets take the database without the missing values\n",
    "cleanedCarsRDD = carsRDD.filter(lambda x: \"?\" not in x)\n",
    "dbSize = cleanedCarsRDD.count()"
   ]
  },
  {
   "cell_type": "code",
   "execution_count": 8,
   "metadata": {},
   "outputs": [
    {
     "data": {
      "text/plain": [
       "104.46938775510205"
      ]
     },
     "execution_count": 8,
     "metadata": {},
     "output_type": "execute_result"
    }
   ],
   "source": [
    "# Now, let's create a function to calculate the HP average\n",
    "cleanedCarsRDD2 = cleanedCarsRDD.map(lambda x: float(x.split(\",\")[3]))\n",
    "avgHP = cleanedCarsRDD2.reduce(lambda x, y: (x+y))/dbSize\n",
    "avgHP"
   ]
  },
  {
   "cell_type": "code",
   "execution_count": 9,
   "metadata": {},
   "outputs": [],
   "source": [
    "# Using Average HP to substitute missing values\n",
    "avgHPbc = sc.broadcast(avgHP)"
   ]
  },
  {
   "cell_type": "code",
   "execution_count": 10,
   "metadata": {},
   "outputs": [],
   "source": [
    "# Function to substitute missing data\n",
    "def cleaningData(inputStr):\n",
    "    global avgHPbc\n",
    "    valuesList = inputStr.split(\",\")\n",
    "    hpValue = valuesList[3]\n",
    "    if hpValue == \"?\":\n",
    "        hpValue = avgHPbc.value\n",
    "       \n",
    "    lines = Row(MPG = float(valuesList[0]), CYLINDERS = float(valuesList[1]), DISPLACEMENT = float(valuesList[2]), \n",
    "                 HORSEPOWER = float(hpValue), WEIGHT = float(valuesList[4]), ACCELERATION = float(valuesList[5]), \n",
    "                 MODELYEAR = float(valuesList[6]), NAME = valuesList[7]) \n",
    "    return lines"
   ]
  },
  {
   "cell_type": "code",
   "execution_count": 11,
   "metadata": {},
   "outputs": [
    {
     "data": {
      "text/plain": [
       "[Row(MPG=18.0, CYLINDERS=8.0, DISPLACEMENT=307.0, HORSEPOWER=130.0, WEIGHT=3504.0, ACCELERATION=12.0, MODELYEAR=70.0, NAME='1'),\n",
       " Row(MPG=15.0, CYLINDERS=8.0, DISPLACEMENT=350.0, HORSEPOWER=165.0, WEIGHT=3693.0, ACCELERATION=11.5, MODELYEAR=70.0, NAME='1'),\n",
       " Row(MPG=18.0, CYLINDERS=8.0, DISPLACEMENT=318.0, HORSEPOWER=150.0, WEIGHT=3436.0, ACCELERATION=11.0, MODELYEAR=70.0, NAME='1'),\n",
       " Row(MPG=16.0, CYLINDERS=8.0, DISPLACEMENT=304.0, HORSEPOWER=150.0, WEIGHT=3433.0, ACCELERATION=12.0, MODELYEAR=70.0, NAME='1'),\n",
       " Row(MPG=17.0, CYLINDERS=8.0, DISPLACEMENT=302.0, HORSEPOWER=140.0, WEIGHT=3449.0, ACCELERATION=10.5, MODELYEAR=70.0, NAME='1')]"
      ]
     },
     "execution_count": 11,
     "metadata": {},
     "output_type": "execute_result"
    }
   ],
   "source": [
    "# Running function on RDD\n",
    "CarsRDD2 = carsRDD.map(cleaningData)\n",
    "CarsRDD2.cache()\n",
    "CarsRDD2.take(5)"
   ]
  },
  {
   "cell_type": "code",
   "execution_count": 12,
   "metadata": {},
   "outputs": [],
   "source": [
    "# Creating DataFrame\n",
    "CarsDF = spSession.createDataFrame(CarsRDD2)"
   ]
  },
  {
   "cell_type": "code",
   "execution_count": 13,
   "metadata": {},
   "outputs": [
    {
     "name": "stdout",
     "output_type": "stream",
     "text": [
      "+-------+-----------------+------------------+------------------+------------------+-----------------+\n",
      "|summary|              MPG|         CYLINDERS|        HORSEPOWER|      ACCELERATION|           WEIGHT|\n",
      "+-------+-----------------+------------------+------------------+------------------+-----------------+\n",
      "|  count|              398|               398|               398|               398|              398|\n",
      "|   mean|23.51457286432161| 5.454773869346734|104.46938775510203|15.568090452261313|2970.424623115578|\n",
      "| stddev|7.815984312565783|1.7010042445332125| 38.19918737359047|2.7576889298126765|846.8417741973266|\n",
      "|    min|              9.0|               3.0|              46.0|               8.0|           1613.0|\n",
      "|    max|             46.6|               8.0|             230.0|              24.8|           5140.0|\n",
      "+-------+-----------------+------------------+------------------+------------------+-----------------+\n",
      "\n"
     ]
    }
   ],
   "source": [
    "# Estatísticas descritivas\n",
    "CarsDF.select(\"MPG\",\"CYLINDERS\", \"HORSEPOWER\", \"ACCELERATION\", \"WEIGHT\").describe().show()"
   ]
  },
  {
   "cell_type": "code",
   "execution_count": 14,
   "metadata": {},
   "outputs": [
    {
     "name": "stdout",
     "output_type": "stream",
     "text": [
      "Corr:  MPG 1.0\n",
      "Corr:  CYLINDERS -0.7753962854205549\n",
      "Corr:  DISPLACEMENT -0.804202824805898\n",
      "Corr:  HORSEPOWER -0.7714371350025524\n",
      "Corr:  WEIGHT -0.8317409332443345\n",
      "Corr:  ACCELERATION 0.42028891210165126\n",
      "Corr:  MODELYEAR 0.5792671330833099\n"
     ]
    }
   ],
   "source": [
    "# Mapping correlation between target (MPG) and variables\n",
    "for i in CarsDF.columns:\n",
    "    if not(isinstance(CarsDF.select(i).take(1)[0][0], str)) :\n",
    "        print(\"Corr: \", i, CarsDF.stat.corr('MPG', i))"
   ]
  },
  {
   "cell_type": "code",
   "execution_count": 15,
   "metadata": {},
   "outputs": [],
   "source": [
    "# Converting to LabeledPoint (target, Vector[features])\n",
    "# and removing columns with minor correlation\n",
    "def transformation(row) :\n",
    "    obj = (row[\"MPG\"], Vectors.dense([row[\"DISPLACEMENT\"], row[\"WEIGHT\"]]))\n",
    "    return obj"
   ]
  },
  {
   "cell_type": "code",
   "execution_count": 16,
   "metadata": {},
   "outputs": [
    {
     "name": "stdout",
     "output_type": "stream",
     "text": [
      "+-----+--------------+\n",
      "|label|      features|\n",
      "+-----+--------------+\n",
      "| 18.0|[307.0,3504.0]|\n",
      "| 15.0|[350.0,3693.0]|\n",
      "| 18.0|[318.0,3436.0]|\n",
      "| 16.0|[304.0,3433.0]|\n",
      "| 17.0|[302.0,3449.0]|\n",
      "| 15.0|[429.0,4341.0]|\n",
      "| 14.0|[454.0,4354.0]|\n",
      "| 14.0|[440.0,4312.0]|\n",
      "| 14.0|[455.0,4425.0]|\n",
      "| 15.0|[390.0,3850.0]|\n",
      "+-----+--------------+\n",
      "only showing top 10 rows\n",
      "\n"
     ]
    }
   ],
   "source": [
    "CarsRDD3 = CarsRDD2.map(transformation)\n",
    "CarsDF2 = spSession.createDataFrame(CarsRDD3,[\"label\", \"features\"])\n",
    "CarsDF2.select(\"label\",\"features\").show(10)"
   ]
  },
  {
   "cell_type": "code",
   "execution_count": 17,
   "metadata": {},
   "outputs": [
    {
     "data": {
      "text/plain": [
       "[(18.0, DenseVector([307.0, 3504.0])),\n",
       " (15.0, DenseVector([350.0, 3693.0])),\n",
       " (18.0, DenseVector([318.0, 3436.0])),\n",
       " (16.0, DenseVector([304.0, 3433.0])),\n",
       " (17.0, DenseVector([302.0, 3449.0]))]"
      ]
     },
     "execution_count": 17,
     "metadata": {},
     "output_type": "execute_result"
    }
   ],
   "source": [
    "CarsRDD3.take(5)"
   ]
  },
  {
   "cell_type": "code",
   "execution_count": 89,
   "metadata": {},
   "outputs": [],
   "source": [
    "# Training/Testing\n",
    "(trainData, testData) = CarsDF2.randomSplit([0.7, 0.3])"
   ]
  },
  {
   "cell_type": "code",
   "execution_count": 68,
   "metadata": {},
   "outputs": [],
   "source": [
    "# Model creation\n",
    "linearReg = LinearRegression(maxIter = 30)\n",
    "model = linearReg.fit(trainData)"
   ]
  },
  {
   "cell_type": "code",
   "execution_count": 69,
   "metadata": {},
   "outputs": [
    {
     "name": "stdout",
     "output_type": "stream",
     "text": [
      "Coeffs: [-0.01721658818499739,-0.0058789958538445295]\n",
      "Intercept: 44.35303236796368\n"
     ]
    }
   ],
   "source": [
    "# Metrics\n",
    "print(\"Coeffs: \" + str(model.coefficients))\n",
    "print(\"Intercept: \" + str(model.intercept))"
   ]
  },
  {
   "cell_type": "code",
   "execution_count": 70,
   "metadata": {},
   "outputs": [
    {
     "name": "stdout",
     "output_type": "stream",
     "text": [
      "+--------------+------------------+\n",
      "|      features|        prediction|\n",
      "+--------------+------------------+\n",
      "|[304.0,4732.0]|11.299781179332157|\n",
      "|[400.0,4906.0]| 8.624043435003458|\n",
      "|[307.0,4098.0]|14.975414786114598|\n",
      "|[350.0,3988.0]|14.881791038082607|\n",
      "|[350.0,4100.0]|14.223343502452021|\n",
      "|[350.0,4502.0]| 11.85998716920652|\n",
      "|[400.0,4422.0]|11.469477428264213|\n",
      "|[400.0,4464.0]| 11.22255960240274|\n",
      "|[400.0,4746.0]| 9.564682771618585|\n",
      "|[440.0,4735.0]| 8.940688198610978|\n",
      "|[318.0,4096.0]|14.797790307787317|\n",
      "|[351.0,4154.0]|13.888661138159417|\n",
      "|[454.0,4354.0]|10.939553384335781|\n",
      "|[250.0,3336.0]|20.436555153288978|\n",
      "|[318.0,3399.0]| 18.89545041791695|\n",
      "|[318.0,4135.0]|14.568509469487378|\n",
      "|[350.0,3693.0]|16.616094814966743|\n",
      "|[350.0,4440.0]| 12.22448491214488|\n",
      "|[400.0,3761.0]|15.355493687655446|\n",
      "|[250.0,3278.0]| 20.77753691281196|\n",
      "+--------------+------------------+\n",
      "only showing top 20 rows\n",
      "\n"
     ]
    }
   ],
   "source": [
    "# Prediction\n",
    "predictions = model.transform(testData)\n",
    "predictions.select(\"features\", \"prediction\").show()"
   ]
  },
  {
   "cell_type": "code",
   "execution_count": 71,
   "metadata": {},
   "outputs": [
    {
     "data": {
      "text/plain": [
       "0.7183284542977011"
      ]
     },
     "execution_count": 71,
     "metadata": {},
     "output_type": "execute_result"
    }
   ],
   "source": [
    "# R2 Coeff\n",
    "evaluating = RegressionEvaluator(predictionCol = \"prediction\", labelCol = \"label\", metricName = \"r2\")\n",
    "evaluating.evaluate(predictions) "
   ]
  },
  {
   "cell_type": "code",
   "execution_count": 72,
   "metadata": {},
   "outputs": [
    {
     "name": "stdout",
     "output_type": "stream",
     "text": [
      "Corr:  MPG -0.7714371350025524\n",
      "Corr:  CYLINDERS 0.8389393655645941\n",
      "Corr:  DISPLACEMENT 0.8936462355336693\n",
      "Corr:  HORSEPOWER 1.0\n",
      "Corr:  WEIGHT 0.8605743010090405\n",
      "Corr:  ACCELERATION -0.6842591288838642\n",
      "Corr:  MODELYEAR -0.4116509959223453\n"
     ]
    }
   ],
   "source": [
    "# Mapping correlation between target (HP) and variables\n",
    "for i in CarsDF.columns:\n",
    "    if not(isinstance(CarsDF.select(i).take(1)[0][0], str)) :\n",
    "        print(\"Corr: \", i, CarsDF.stat.corr('HORSEPOWER', i))"
   ]
  },
  {
   "cell_type": "code",
   "execution_count": 73,
   "metadata": {},
   "outputs": [],
   "source": [
    "def transformation2(row) :\n",
    "    obj = (row[\"HORSEPOWER\"], Vectors.dense([row[\"DISPLACEMENT\"], row[\"WEIGHT\"]]))\n",
    "    return obj"
   ]
  },
  {
   "cell_type": "code",
   "execution_count": 98,
   "metadata": {},
   "outputs": [
    {
     "name": "stdout",
     "output_type": "stream",
     "text": [
      "+-----+--------------+\n",
      "|label|      features|\n",
      "+-----+--------------+\n",
      "|130.0|[307.0,3504.0]|\n",
      "|165.0|[350.0,3693.0]|\n",
      "|150.0|[318.0,3436.0]|\n",
      "|150.0|[304.0,3433.0]|\n",
      "|140.0|[302.0,3449.0]|\n",
      "|198.0|[429.0,4341.0]|\n",
      "|220.0|[454.0,4354.0]|\n",
      "|215.0|[440.0,4312.0]|\n",
      "|225.0|[455.0,4425.0]|\n",
      "|190.0|[390.0,3850.0]|\n",
      "+-----+--------------+\n",
      "only showing top 10 rows\n",
      "\n"
     ]
    }
   ],
   "source": [
    "CarsRDD4 = CarsRDD2.map(transformation2)\n",
    "CarsDF3 = spSession.createDataFrame(CarsRDD4,[\"label\", \"features\"])\n",
    "CarsDF3.select(\"label\",\"features\").show(10)"
   ]
  },
  {
   "cell_type": "code",
   "execution_count": 99,
   "metadata": {},
   "outputs": [],
   "source": [
    "# Training/Testing\n",
    "(trainData, testData) = CarsDF3.filter(CarsDF3.label != avgHP).randomSplit([0.7, 0.3])"
   ]
  },
  {
   "cell_type": "code",
   "execution_count": 100,
   "metadata": {},
   "outputs": [],
   "source": [
    "# Model creation\n",
    "linearReg = LinearRegression(maxIter = 30)\n",
    "model = linearReg.fit(trainData)"
   ]
  },
  {
   "cell_type": "code",
   "execution_count": 101,
   "metadata": {},
   "outputs": [
    {
     "name": "stdout",
     "output_type": "stream",
     "text": [
      "Coeffs: [0.2306504786306493,0.01365485210043601]\n",
      "Intercept: 19.4113258168614\n"
     ]
    }
   ],
   "source": [
    "# Metrics\n",
    "print(\"Coeffs: \" + str(model.coefficients))\n",
    "print(\"Intercept: \" + str(model.intercept))"
   ]
  },
  {
   "cell_type": "code",
   "execution_count": 102,
   "metadata": {},
   "outputs": [
    {
     "name": "stdout",
     "output_type": "stream",
     "text": [
      "+--------------+------------------+\n",
      "|      features|        prediction|\n",
      "+--------------+------------------+\n",
      "| [68.0,1867.0]| 60.58916723525958|\n",
      "| [76.0,1649.0]|59.457613306409726|\n",
      "| [85.0,2035.0]| 66.80424052485387|\n",
      "| [83.0,2003.0]| 65.90598430037862|\n",
      "| [71.0,1773.0]|59.997562573710546|\n",
      "| [79.0,1950.0]| 64.25967522453291|\n",
      "| [79.0,1963.0]| 64.43718830183857|\n",
      "|[140.0,2401.0]| 84.48769271829917|\n",
      "|[250.0,3158.0]|120.19596840770063|\n",
      "|[250.0,3432.0]|123.93739788322011|\n",
      "| [90.0,2125.0]| 69.18642960704636|\n",
      "| [98.0,2164.0]| 71.56417266800855|\n",
      "|[116.0,2220.0]| 76.48055300098466|\n",
      "|[122.0,2310.0]|  79.0933925618078|\n",
      "|[122.0,2395.0]| 80.25405499034486|\n",
      "|[120.0,2979.0]|  87.7671876597382|\n",
      "| [97.0,2100.0]| 70.45961165495001|\n",
      "| [97.0,2130.0]| 70.86925721796308|\n",
      "|[250.0,3021.0]| 118.3252536699409|\n",
      "| [70.0,2124.0]| 64.55976518233294|\n",
      "+--------------+------------------+\n",
      "only showing top 20 rows\n",
      "\n"
     ]
    }
   ],
   "source": [
    "# Prediction\n",
    "predictions = model.transform(testData)\n",
    "predictions.select(\"features\", \"prediction\").show()"
   ]
  },
  {
   "cell_type": "code",
   "execution_count": 103,
   "metadata": {},
   "outputs": [
    {
     "data": {
      "text/plain": [
       "0.7651180835826709"
      ]
     },
     "execution_count": 103,
     "metadata": {},
     "output_type": "execute_result"
    }
   ],
   "source": [
    "# R2 Coeff\n",
    "evaluating = RegressionEvaluator(predictionCol = \"prediction\", labelCol = \"label\", metricName = \"r2\")\n",
    "evaluating.evaluate(predictions) "
   ]
  },
  {
   "cell_type": "code",
   "execution_count": 105,
   "metadata": {},
   "outputs": [
    {
     "name": "stdout",
     "output_type": "stream",
     "text": [
      "+--------------+------------------+\n",
      "|      features|        prediction|\n",
      "+--------------+------------------+\n",
      "| [68.0,1867.0]| 60.58916723525958|\n",
      "| [76.0,1649.0]|59.457613306409726|\n",
      "| [85.0,2035.0]| 66.80424052485387|\n",
      "| [83.0,2003.0]| 65.90598430037862|\n",
      "| [71.0,1773.0]|59.997562573710546|\n",
      "| [79.0,1950.0]| 64.25967522453291|\n",
      "| [79.0,1963.0]| 64.43718830183857|\n",
      "|[140.0,2401.0]| 84.48769271829917|\n",
      "|[250.0,3158.0]|120.19596840770063|\n",
      "|[250.0,3432.0]|123.93739788322011|\n",
      "| [90.0,2125.0]| 69.18642960704636|\n",
      "| [98.0,2164.0]| 71.56417266800855|\n",
      "|[116.0,2220.0]| 76.48055300098466|\n",
      "|[122.0,2310.0]|  79.0933925618078|\n",
      "|[122.0,2395.0]| 80.25405499034486|\n",
      "|[120.0,2979.0]|  87.7671876597382|\n",
      "| [97.0,2100.0]| 70.45961165495001|\n",
      "| [97.0,2130.0]| 70.86925721796308|\n",
      "|[250.0,3021.0]| 118.3252536699409|\n",
      "| [70.0,2124.0]| 64.55976518233294|\n",
      "+--------------+------------------+\n",
      "only showing top 20 rows\n",
      "\n"
     ]
    }
   ],
   "source": [
    "predictions = model.transform(testData)\n",
    "predictions.select(\"features\", \"prediction\").show()"
   ]
  },
  {
   "cell_type": "code",
   "execution_count": 110,
   "metadata": {},
   "outputs": [],
   "source": [
    "testAvgHP = CarsDF3.filter(CarsDF3.label == avgHP)"
   ]
  },
  {
   "cell_type": "code",
   "execution_count": 111,
   "metadata": {},
   "outputs": [
    {
     "name": "stdout",
     "output_type": "stream",
     "text": [
      "+--------------+-----------------+\n",
      "|      features|       prediction|\n",
      "+--------------+-----------------+\n",
      "| [98.0,2046.0]|69.95290012015711|\n",
      "|[200.0,2875.0]|104.7991213317448|\n",
      "| [85.0,1835.0]|64.07327010476666|\n",
      "|[140.0,2905.0]| 91.3697381769189|\n",
      "|[100.0,2320.0]|74.15563055293788|\n",
      "|[151.0,3035.0]|95.68202421491273|\n",
      "+--------------+-----------------+\n",
      "\n"
     ]
    }
   ],
   "source": [
    "predictions = model.transform(testAvgHP)\n",
    "predictions.select(\"features\", \"prediction\").show()"
   ]
  },
  {
   "cell_type": "code",
   "execution_count": null,
   "metadata": {},
   "outputs": [],
   "source": [
    "# Function to substitute missing data\n",
    "def cleaningData(inputStr):\n",
    "    global avgHPbc\n",
    "    valuesList = inputStr.split(\",\")\n",
    "    hpValue = valuesList[3]\n",
    "    if hpValue == \"?\":\n",
    "        hpValue = avgHPbc.value\n",
    "       \n",
    "    lines = Row(MPG = float(valuesList[0]), CYLINDERS = float(valuesList[1]), DISPLACEMENT = float(valuesList[2]), \n",
    "                 HORSEPOWER = float(hpValue), WEIGHT = float(valuesList[4]), ACCELERATION = float(valuesList[5]), \n",
    "                 MODELYEAR = float(valuesList[6]), NAME = valuesList[7])\n",
    "    \n",
    "    return lines"
   ]
  },
  {
   "cell_type": "code",
   "execution_count": null,
   "metadata": {},
   "outputs": [],
   "source": []
  }
 ],
 "metadata": {
  "anaconda-cloud": {},
  "kernelspec": {
   "display_name": "Python 3",
   "language": "python",
   "name": "python3"
  },
  "language_info": {
   "codemirror_mode": {
    "name": "ipython",
    "version": 3
   },
   "file_extension": ".py",
   "mimetype": "text/x-python",
   "name": "python",
   "nbconvert_exporter": "python",
   "pygments_lexer": "ipython3",
   "version": "3.8.8"
  }
 },
 "nbformat": 4,
 "nbformat_minor": 1
}
